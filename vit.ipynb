{
 "cells": [
  {
   "cell_type": "code",
   "execution_count": 1,
   "id": "initial_id",
   "metadata": {
    "collapsed": true,
    "jupyter": {
     "outputs_hidden": true
    },
    "ExecuteTime": {
     "end_time": "2024-05-14T19:37:25.966316Z",
     "start_time": "2024-05-14T19:37:25.962317Z"
    }
   },
   "outputs": [
    {
     "ename": "SyntaxError",
     "evalue": "invalid syntax (2791885711.py, line 16)",
     "output_type": "error",
     "traceback": [
      "\u001B[1;36m  Cell \u001B[1;32mIn[1], line 16\u001B[1;36m\u001B[0m\n\u001B[1;33m    train_ds =\u001B[0m\n\u001B[1;37m               ^\u001B[0m\n\u001B[1;31mSyntaxError\u001B[0m\u001B[1;31m:\u001B[0m invalid syntax\n"
     ]
    }
   ],
   "source": [
    "from transformers import ViTImageProcessor\n",
    "from torchvision import datasets, transforms\n",
    "from torch.utils.data import DataLoader, random_split\n",
    "import torch\n",
    "\n",
    "processor = ViTImageProcessor.from_pretrained('google/vit-base-patch16-224')\n",
    "\n",
    "\n",
    "full_train_ds = datasets.ImageFolder('./train/train/')\n",
    "print(full_train_ds)\n",
    "# Splitting the dataset into train and validation sets\n",
    "train_size = int(0.8 * len(full_train_ds))\n",
    "val_size = len(full_train_ds) - train_size\n",
    "train_ds, val_ds = random_split(full_train_ds, [train_size, val_size])\n",
    "\n",
    "train_ds = \n",
    "val_ds = processor(val_ds, return_tensors='pt')\n",
    "# Setup data loaders\n",
    "train_loader = DataLoader(train_ds, batch_size=32, shuffle=True)\n",
    "val_loader = DataLoader(val_ds, batch_size=32, shuffle=False)\n"
   ]
  },
  {
   "cell_type": "code",
   "execution_count": null,
   "id": "f561127cc3e767c5",
   "metadata": {
    "collapsed": false,
    "ExecuteTime": {
     "end_time": "2024-05-14T19:37:25.967325Z",
     "start_time": "2024-05-14T19:37:25.967325Z"
    }
   },
   "outputs": [],
   "source": [
    "from transformers import ViTForImageClassification\n",
    "\n",
    "model = ViTForImageClassification.from_pretrained('google/vit-base-patch16-224')\n",
    "\n",
    "model.classifier = torch.nn.Linear(model.config.hidden_size, 5)\n"
   ]
  },
  {
   "cell_type": "code",
   "execution_count": null,
   "id": "12b8b7404f4adc25",
   "metadata": {
    "collapsed": false,
    "ExecuteTime": {
     "start_time": "2024-05-14T19:37:25.967325Z"
    }
   },
   "outputs": [],
   "source": [
    "import matplotlib.pyplot as plt\n",
    "\n",
    "device = torch.device(\"cuda\" if torch.cuda.is_available() else \"cpu\")\n",
    "model.to(device)\n",
    "\n",
    "num_epochs = 5\n",
    "criterion = torch.nn.CrossEntropyLoss()\n",
    "optimizer = torch.optim.Adam(model.parameters(), lr=5e-5)\n",
    "\n",
    "history = {\n",
    "    'loss': [],\n",
    "    'val_loss': [],\n",
    "    'accuracy': [],\n",
    "    'val_accuracy': []\n",
    "}\n",
    "\n",
    "for epoch in range(num_epochs):\n",
    "    model.train()\n",
    "    train_loss = 0\n",
    "    correct = 0\n",
    "    total = 0\n",
    "    \n",
    "    for images, labels in train_loader:\n",
    "        images, labels = images.to(device), labels.to(device)\n",
    "        outputs = model(images)\n",
    "        loss = criterion(outputs.logits, labels)\n",
    "        train_loss += loss.item()\n",
    "\n",
    "        optimizer.zero_grad()\n",
    "        loss.backward()\n",
    "        optimizer.step()\n",
    "\n",
    "        _, predicted = torch.max(outputs.logits, 1)\n",
    "        total += labels.size(0)\n",
    "        correct += (predicted == labels).sum().item()\n",
    "\n",
    "    # Record training loss and accuracy\n",
    "    epoch_loss = train_loss / len(train_loader)\n",
    "    epoch_accuracy = 100 * correct / total\n",
    "    history['loss'].append(epoch_loss)\n",
    "    history['accuracy'].append(epoch_accuracy)\n",
    "    \n",
    "    # Validation phase\n",
    "    model.eval()\n",
    "    val_loss = 0\n",
    "    correct = 0\n",
    "    total = 0\n",
    "    with torch.no_grad():\n",
    "        for images, labels in val_loader:\n",
    "            images, labels = images.to(device), labels.to(device)\n",
    "            outputs = model(images)\n",
    "            loss = criterion(outputs.logits, labels)\n",
    "            val_loss += loss.item()\n",
    "            \n",
    "            _, predicted = torch.max(outputs.logits, 1)\n",
    "            total += labels.size(0)\n",
    "            correct += (predicted == labels).sum().item()\n",
    "\n",
    "    # Record validation loss and accuracy\n",
    "    avg_val_loss = val_loss / len(val_loader)\n",
    "    val_accuracy = 100 * correct / total\n",
    "    history['val_loss'].append(avg_val_loss)\n",
    "    history['val_accuracy'].append(val_accuracy)\n",
    "\n",
    "    print(f'Epoch [{epoch+1}/{num_epochs}], Loss: {epoch_loss:.4f}, Accuracy: {epoch_accuracy:.2f}%, Val Loss: {avg_val_loss:.4f}, Val Accuracy: {val_accuracy:.2f}%')\n"
   ]
  },
  {
   "cell_type": "code",
   "execution_count": null,
   "id": "c180961b329b4666",
   "metadata": {
    "collapsed": false
   },
   "outputs": [],
   "source": [
    "def plotLosses(history):\n",
    "    fig, (ax1, ax2) = plt.subplots(1, 2, figsize=(10,5))\n",
    "\n",
    "    ax1.plot(history['loss'], label='Training Loss')\n",
    "    ax1.plot(history['val_loss'], label='Validation Loss')\n",
    "    ax1.set_title('Loss Curves')\n",
    "    ax1.set_xlabel('Epoch')\n",
    "    ax1.set_ylabel('Loss')\n",
    "    ax1.legend()\n",
    "\n",
    "    ax2.plot(history['accuracy'], label='Training Accuracy')\n",
    "    ax2.plot(history['val_accuracy'], label='Validation Accuracy')\n",
    "    ax2.set_title('Accuracy Curves')\n",
    "    ax2.set_xlabel('Epoch')\n",
    "    ax2.set_ylabel('Accuracy')\n",
    "    ax2.legend()\n",
    "\n",
    "    fig.tight_layout()\n",
    "    plt.show()\n",
    "\n",
    "# Call the plot function with the history dictionary\n",
    "plotLosses(history)\n"
   ]
  },
  {
   "cell_type": "code",
   "execution_count": null,
   "id": "1fbaa07c24610123",
   "metadata": {
    "collapsed": false,
    "ExecuteTime": {
     "start_time": "2024-05-14T19:37:25.968441Z"
    }
   },
   "outputs": [],
   "source": [
    "import numpy as np\n",
    "\n",
    "test_ds = datasets.ImageFolder('./test/', transform=transform)\n",
    "test_loader = DataLoader(test_ds, batch_size=32, shuffle=False)\n",
    "\n",
    "model.eval()  # Set the model to evaluation mode\n",
    "\n",
    "all_predictions = []\n",
    "with torch.no_grad():\n",
    "    for images, _ in test_loader:\n",
    "        images = images.to(device)\n",
    "        outputs = model(images)\n",
    "        _, predicted = torch.max(outputs.logits, 1)\n",
    "        all_predictions.extend(predicted.cpu().numpy())\n",
    "\n",
    "# all_predictions now contains the predicted class indices for each test image\n",
    "\n",
    "import pandas as pd\n",
    "\n",
    "# Assuming the structure is something like './test/class_name/filename.jpg'\n",
    "ids = [fp.split('\\\\')[-1].split('.')[0] for fp, _ in test_ds.imgs]\n",
    "\n",
    "submission_df = pd.DataFrame({\n",
    "    'id': ids,\n",
    "    'label': all_predictions\n",
    "})\n",
    "submission_df.to_csv('newsubmission.csv', index=False)"
   ]
  }
 ],
 "metadata": {
  "kernelspec": {
   "display_name": "Python 3 (ipykernel)",
   "language": "python",
   "name": "python3"
  },
  "language_info": {
   "codemirror_mode": {
    "name": "ipython",
    "version": 3
   },
   "file_extension": ".py",
   "mimetype": "text/x-python",
   "name": "python",
   "nbconvert_exporter": "python",
   "pygments_lexer": "ipython3",
   "version": "3.12.2"
  }
 },
 "nbformat": 4,
 "nbformat_minor": 5
}
